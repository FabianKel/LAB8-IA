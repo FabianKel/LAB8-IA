{
 "cells": [
  {
   "cell_type": "markdown",
   "metadata": {},
   "source": [
    "# **Laboratorio 8**"
   ]
  },
  {
   "cell_type": "markdown",
   "metadata": {},
   "source": [
    "-  [Mónica Salvatierra - 22249](https://github.com/alee2602)\n",
    "- [Paula Barillas - 22764](https://github.com/paulabaal12)\n",
    "- [Derek Arreaga - 22537](https://github.com/FabianKel)"
   ]
  },
  {
   "cell_type": "markdown",
   "metadata": {},
   "source": [
    "**Link del repositorio:**\n",
    "\n",
    "https://github.com/FabianKel/LAB8-IA"
   ]
  },
  {
   "cell_type": "markdown",
   "metadata": {},
   "source": [
    "## **Task 1 - Teoría**\n",
    "\n",
    "Responda las siguientes preguntas de forma clara y concisa"
   ]
  },
  {
   "cell_type": "markdown",
   "metadata": {},
   "source": [
    "**1. Investigar el algoritmo AC-3 y su relación con el algoritmo de\n",
    "backtracking search.**"
   ]
  },
  {
   "cell_type": "markdown",
   "metadata": {},
   "source": [
    "\n",
    "El algoritmo AC-3 es una técnica utilizada en problemas de\n",
    "restricciones para reducir los dominios de las variables\n",
    "eliminando valores inconsistentes. Al igual que el algoritmo de\n",
    "Backtracking Search, tiene como objetivo mejorar la eficiencia\n",
    "de la búsqueda al reducir el espacio de soluciones antes de\n",
    "aplicar métodos más costosos.\n",
    "El algoritmo AC-3 funciona de la siguiente manera:\n",
    "1. Convierte restricciones en arco: Se representan las\n",
    "restricciones binarias como pares de arcos (X -> Y, Y ->X)\n",
    "2. Se crea una agenda de arcos: Se almacena una lista de arcos\n",
    "a revisar.\n",
    "3. Revisión de arcos: Se verifica si cada valor en el dominio de\n",
    "una variable tiene al menos un valor compatible en la otra\n",
    "variable. Si un valor no tiene soporte, se elimina.\n",
    "4. Repetición hasta encontrar estabilidad: Si un dominio\n",
    "cambia, entonces los arcos relacionados se deben de volver\n",
    "a revisar y el proceso continúa hasta que no haya más\n",
    "modificaciones.\n",
    "\n",
    "**Ventajas:**\n",
    "- Reduce el espacio de búsqueda, facilitando la solución\n",
    "del problema.\n",
    "- Detecta inconsistencias temprano, evitando\n",
    "exploraciones inútiles.\n",
    "\n",
    "**Desventajas:**\n",
    "- No garantiza una solución óptima, solo filtra valores\n",
    "inconsistentes.\n",
    "- Puede ser costoso en problemas con grandes dominios o\n",
    "muchas restricciones.\n"
   ]
  },
  {
   "cell_type": "markdown",
   "metadata": {},
   "source": [
    "**2. Defina en sus propias palabras el término “Arc Consistency”**"
   ]
  },
  {
   "cell_type": "markdown",
   "metadata": {},
   "source": [
    "Arc Consistency es un concepto que se utiliza en problemas de satisfacción de restricciones. Se dice que un arco entre dos variables es consistente cuando, para cada valor en el dominio de la primera variable, existe al menos un valor en el dominio de la segunda que cumple con la restricción que hay entre ellas. Si no se cumple esto, se eliminan los valores que no sirven, de tal manera que se van reduciendo los dominios y se facilita la búsqueda de una solución al problema."
   ]
  },
  {
   "cell_type": "markdown",
   "metadata": {},
   "source": [
    "### **Referencias**"
   ]
  },
  {
   "cell_type": "markdown",
   "metadata": {},
   "source": [
    "1. Boris. (2025, 28 febrero). ARC consistency explained. BorisTheBrave.Com. https://www.boristhebrave.com/2021/08/30/arc-consistency-explained/\n",
    "\n",
    "2. Satisfacción de restricciones: algoritmo AC-3. (2024, 2 marzo).\n",
    "https://www.toolify.ai/es/ai-news-es/satisfaccin-de-\n",
    "restricciones-algoritmo-ac3-2042502\n"
   ]
  },
  {
   "cell_type": "markdown",
   "metadata": {},
   "source": [
    "## **Task 2 - CSP con Backtracking, Beam y Local Search**"
   ]
  },
  {
   "cell_type": "code",
   "execution_count": 323,
   "metadata": {},
   "outputs": [],
   "source": [
    "import time\n",
    "import random\n",
    "from enum import Enum\n",
    "import tabulate\n",
    "from IPython.core.interactiveshell import InteractiveShell\n",
    "InteractiveShell.ast_node_interactivity = \"all\"\n",
    "import pandas as pd\n",
    "\n",
    "\n"
   ]
  },
  {
   "cell_type": "markdown",
   "metadata": {},
   "source": [
    "**Definición de variables y dominio**"
   ]
  },
  {
   "cell_type": "code",
   "execution_count": 324,
   "metadata": {},
   "outputs": [
    {
     "name": "stdout",
     "output_type": "stream",
     "text": [
      "\n",
      "Exámenes a programar:\n",
      "    Asignatura\n",
      "0       Cocina\n",
      "1       Inglés\n",
      "2  Matemáticas\n",
      "3     Historia\n",
      "4         Arte\n",
      "5       Física\n",
      "6      Química\n",
      "\n",
      "Estudiantes y sus exámenes:\n",
      "+--------------+-----------------------------+\n",
      "| Estudiante   | Exámenes                    |\n",
      "+==============+=============================+\n",
      "| Carlos       | Cocina, Inglés, Matemáticas |\n",
      "+--------------+-----------------------------+\n",
      "| Max          | Matemáticas, Historia, Arte |\n",
      "+--------------+-----------------------------+\n",
      "| Charles      | Matemáticas, Arte, Física   |\n",
      "+--------------+-----------------------------+\n",
      "| Lewis        | Cocina, Arte, Química       |\n",
      "+--------------+-----------------------------+\n",
      "\n",
      "Restricciones:\n",
      "1. Todos los exámenes deben realizarse en días diferentes (Lunes, Martes o Miércoles)\n",
      "2. Ningún estudiante puede tener más de un examen en un mismo día\n",
      "3. Estudiantes que toman el mismo curso no pueden tener exámenes el mismo día\n"
     ]
    }
   ],
   "source": [
    "exams = [\"Cocina\", \"Inglés\", \"Matemáticas\", \"Historia\", \"Arte\", \"Física\", \"Química\"]\n",
    "\n",
    "# Dominio = Días disponibles\n",
    "domain = [\"Lunes\", \"Martes\", \"Miércoles\"]\n",
    "\n",
    "# Crear una lista de pares (estudiante, examen)\n",
    "student_exam_pairs = [(student, exam) for student, exams in students.items() for exam in exams]\n",
    "# Asignación de exámenes por estudiante\n",
    "students = {\n",
    "    \"Carlos\": [\"Cocina\", \"Inglés\", \"Matemáticas\"],\n",
    "    \"Max\": [\"Matemáticas\", \"Historia\", \"Arte\"],\n",
    "    \"Charles\": [\"Matemáticas\", \"Arte\", \"Física\"],\n",
    "    \"Lewis\": [\"Cocina\", \"Arte\", \"Química\"]\n",
    "}\n",
    "# información de los exámenes\n",
    "exams_df = pd.DataFrame({'Asignatura': exams})\n",
    "\n",
    "print(\"\\nExámenes a programar:\")\n",
    "print(exams_df)\n",
    "\n",
    "# Mostrar información de los estudiantes\n",
    "student_data = []\n",
    "for student, student_exams in students.items():\n",
    "    student_data.append([student, \", \".join(student_exams)])\n",
    "    \n",
    "print(\"\\nEstudiantes y sus exámenes:\")\n",
    "print(tabulate.tabulate(student_data, headers=[\"Estudiante\", \"Exámenes\"], tablefmt=\"grid\"))\n",
    "    \n",
    "print(\"\\nRestricciones:\")\n",
    "print(\"1. Todos los exámenes deben realizarse en días diferentes (Lunes, Martes o Miércoles)\")\n",
    "print(\"2. Ningún estudiante puede tener más de un examen en un mismo día\")\n",
    "print(\"3. Estudiantes que toman el mismo curso no pueden tener exámenes el mismo día\")\n",
    "\n"
   ]
  },
  {
   "cell_type": "markdown",
   "metadata": {},
   "source": [
    "#### **Definir la restricción**"
   ]
  },
  {
   "cell_type": "code",
   "execution_count": 325,
   "metadata": {},
   "outputs": [],
   "source": [
    "def constraints(assignment):\n",
    "    # Restricción 1: Ningún estudiante puede tener más de un examen en el mismo día\n",
    "    for student in students:\n",
    "        days = [assignment.get((student, exam)) for exam in students[student] if (student, exam) in assignment]\n",
    "        if len(days) != len(set(days)):  # Si hay días repetidos, hay conflicto\n",
    "            return False\n",
    "    \n",
    "    # Restricción 2: Estudiantes que comparten un curso no pueden tener el mismo examen el mismo día\n",
    "    for (student1, exam1), day1 in assignment.items():\n",
    "        for (student2, exam2), day2 in assignment.items():\n",
    "            if student1 != student2 and exam1 == exam2 and day1 == day2:\n",
    "                return False\n",
    "    \n",
    "    return True\n",
    "\n",
    "# mostrar la solución de forma clara\n",
    "def print_solution(solution, algorithm_name, execution_time):\n",
    "    if not solution:\n",
    "        return \"No se encontró solución.\"\n",
    "    \n",
    "    print(f\"\\n{'=' * 40}\")\n",
    "    print(f\"RESULTADOS DEL ALGORITMO: {algorithm_name}\")\n",
    "    print(f\"Tiempo de ejecución: {execution_time:.6f} segundos\")\n",
    "    print(f\"{'=' * 40}\")\n",
    "    \n",
    "    # Crear tabla de asignación por día\n",
    "    print(\"\\nASIGNACIÓN DE EXÁMENES POR DÍA:\")\n",
    "    print(\"-\" * 40)\n",
    "    \n",
    "    table_data = []\n",
    "    for day in domain:\n",
    "        exams_on_day = [f\"{student}-{exam}\" for (student, exam), d in solution.items() if d == day]\n",
    "        table_data.append([day, \", \".join(exams_on_day)])\n",
    "    \n",
    "    headers = [\"Día\", \"Exámenes\"]\n",
    "    print(tabulate.tabulate(table_data, headers=headers, tablefmt=\"fancy_grid\"))\n",
    "    \n",
    "    # Asignación (calendario)\n",
    "    print(\"\\nCALENDARIO DE EXÁMENES | ASIGNACIÓN:\")\n",
    "    print(\"-\" * 40)\n",
    "    \n",
    "    calendar_data = []\n",
    "    \n",
    "    # Crear una fila para cada estudiante\n",
    "    for student, student_exams in students.items():\n",
    "        row = [student]\n",
    "        \n",
    "        # Para cada día, verificar si el estudiante tiene un examen\n",
    "        for day in domain:\n",
    "            exams_on_day = [exam for exam in student_exams if (student, exam) in solution and solution[(student, exam)] == day]\n",
    "            row.append(\"\\n\".join(exams_on_day) if exams_on_day else \"\")\n",
    "        \n",
    "        calendar_data.append(row)\n",
    "    \n",
    "    calendar_headers = [\"Estudiante\"] + domain\n",
    "    print(tabulate.tabulate(calendar_data, headers=calendar_headers, tablefmt=\"fancy_grid\"))\n",
    "    \n",
    "    return \"\"\n",
    "\n",
    "# Función para medir tiempo \n",
    "def measure_execution_time(algorithm_func, *args, **kwargs):\n",
    "    # Ejecutar el algoritmo varias veces para obtener un tiempo más preciso\n",
    "    num_runs = 8\n",
    "    total_time = 0\n",
    "    solution = None\n",
    "    \n",
    "    for _ in range(num_runs):\n",
    "        start_time = time.time()\n",
    "        solution = algorithm_func(*args, **kwargs)\n",
    "        end_time = time.time()\n",
    "        total_time += (end_time - start_time)\n",
    "   \n",
    "    avg_time = total_time / num_runs\n",
    "    if avg_time < 0.0001: \n",
    "        start_time = time.time()\n",
    "        counter = 0\n",
    "        while counter < 100:  # Ejecutar 100 veces\n",
    "            solution = algorithm_func(*args, **kwargs)\n",
    "            counter += 1\n",
    "        end_time = time.time()\n",
    "        avg_time = (end_time - start_time) / 100\n",
    "    \n",
    "    return solution, avg_time"
   ]
  },
  {
   "cell_type": "markdown",
   "metadata": {},
   "source": [
    "#### **Algoritmo de Backtracking Search**"
   ]
  },
  {
   "cell_type": "code",
   "execution_count": 326,
   "metadata": {},
   "outputs": [
    {
     "name": "stdout",
     "output_type": "stream",
     "text": [
      "\n",
      "========================================\n",
      "RESULTADOS DEL ALGORITMO: BACKTRACKING\n",
      "Tiempo de ejecución: 0.000314 segundos\n",
      "========================================\n",
      "\n",
      "ASIGNACIÓN DE EXÁMENES POR DÍA:\n",
      "----------------------------------------\n",
      "╒═══════════╤══════════════════════════════════════════════════════════════╕\n",
      "│ Día       │ Exámenes                                                     │\n",
      "╞═══════════╪══════════════════════════════════════════════════════════════╡\n",
      "│ Lunes     │ Carlos-Cocina, Max-Matemáticas, Charles-Arte, Lewis-Química  │\n",
      "├───────────┼──────────────────────────────────────────────────────────────┤\n",
      "│ Martes    │ Carlos-Inglés, Max-Historia, Charles-Matemáticas, Lewis-Arte │\n",
      "├───────────┼──────────────────────────────────────────────────────────────┤\n",
      "│ Miércoles │ Carlos-Matemáticas, Max-Arte, Charles-Física, Lewis-Cocina   │\n",
      "╘═══════════╧══════════════════════════════════════════════════════════════╛\n",
      "\n",
      "CALENDARIO DE EXÁMENES | ASIGNACIÓN:\n",
      "----------------------------------------\n",
      "╒══════════════╤═════════════╤═════════════╤═════════════╕\n",
      "│ Estudiante   │ Lunes       │ Martes      │ Miércoles   │\n",
      "╞══════════════╪═════════════╪═════════════╪═════════════╡\n",
      "│ Carlos       │ Cocina      │ Inglés      │ Matemáticas │\n",
      "├──────────────┼─────────────┼─────────────┼─────────────┤\n",
      "│ Max          │ Matemáticas │ Historia    │ Arte        │\n",
      "├──────────────┼─────────────┼─────────────┼─────────────┤\n",
      "│ Charles      │ Arte        │ Matemáticas │ Física      │\n",
      "├──────────────┼─────────────┼─────────────┼─────────────┤\n",
      "│ Lewis        │ Química     │ Arte        │ Cocina      │\n",
      "╘══════════════╧═════════════╧═════════════╧═════════════╛\n"
     ]
    },
    {
     "data": {
      "text/plain": [
       "''"
      ]
     },
     "execution_count": 326,
     "metadata": {},
     "output_type": "execute_result"
    }
   ],
   "source": [
    "def backtracking(assignment=None, unassigned=None):\n",
    "    if assignment is None:\n",
    "        assignment = {}\n",
    "        unassigned = student_exam_pairs.copy()\n",
    "    \n",
    "    # Si hemos asignado todos los pares, hemos encontrado una solución\n",
    "    if not unassigned:\n",
    "        return assignment\n",
    "    \n",
    "    # Seleccionar un par (estudiante, examen) no asignado\n",
    "    student_exam = unassigned[0]\n",
    "    \n",
    "    # Probar cada posible día para este par\n",
    "    for day in domain:\n",
    "        # Crear una nueva asignación con este par en este día\n",
    "        new_assignment = assignment.copy()\n",
    "        new_assignment[student_exam] = day\n",
    "        \n",
    "        # Verificar si esta asignación es consistente con las restricciones\n",
    "        if constraints(new_assignment):\n",
    "            # Si es consistente, continuar con los demás pares\n",
    "            result = backtracking(new_assignment, unassigned[1:])\n",
    "            if result:\n",
    "                return result\n",
    "    \n",
    "    # Si no se encontró solución, retornar None\n",
    "    return None\n",
    "# Ejecutar el algoritmo de Backtracking\n",
    "\n",
    "bt_solution, bt_time = measure_execution_time(backtracking)\n",
    "print_solution(bt_solution, \"BACKTRACKING\", bt_time)"
   ]
  },
  {
   "cell_type": "markdown",
   "metadata": {},
   "source": [
    "#### **Algoritmo de Beam Search**"
   ]
  },
  {
   "cell_type": "code",
   "execution_count": 327,
   "metadata": {},
   "outputs": [
    {
     "name": "stdout",
     "output_type": "stream",
     "text": [
      "\n",
      "========================================\n",
      "RESULTADOS DEL ALGORITMO: BEAM SEARCH\n",
      "Tiempo de ejecución: 0.000607 segundos\n",
      "========================================\n",
      "\n",
      "ASIGNACIÓN DE EXÁMENES POR DÍA:\n",
      "----------------------------------------\n",
      "╒═══════════╤══════════════════════════════════════════════════════════════╕\n",
      "│ Día       │ Exámenes                                                     │\n",
      "╞═══════════╪══════════════════════════════════════════════════════════════╡\n",
      "│ Lunes     │ Carlos-Cocina, Max-Matemáticas, Charles-Arte, Lewis-Química  │\n",
      "├───────────┼──────────────────────────────────────────────────────────────┤\n",
      "│ Martes    │ Carlos-Inglés, Max-Historia, Charles-Matemáticas, Lewis-Arte │\n",
      "├───────────┼──────────────────────────────────────────────────────────────┤\n",
      "│ Miércoles │ Carlos-Matemáticas, Max-Arte, Charles-Física, Lewis-Cocina   │\n",
      "╘═══════════╧══════════════════════════════════════════════════════════════╛\n",
      "\n",
      "CALENDARIO DE EXÁMENES | ASIGNACIÓN:\n",
      "----------------------------------------\n",
      "╒══════════════╤═════════════╤═════════════╤═════════════╕\n",
      "│ Estudiante   │ Lunes       │ Martes      │ Miércoles   │\n",
      "╞══════════════╪═════════════╪═════════════╪═════════════╡\n",
      "│ Carlos       │ Cocina      │ Inglés      │ Matemáticas │\n",
      "├──────────────┼─────────────┼─────────────┼─────────────┤\n",
      "│ Max          │ Matemáticas │ Historia    │ Arte        │\n",
      "├──────────────┼─────────────┼─────────────┼─────────────┤\n",
      "│ Charles      │ Arte        │ Matemáticas │ Física      │\n",
      "├──────────────┼─────────────┼─────────────┼─────────────┤\n",
      "│ Lewis        │ Química     │ Arte        │ Cocina      │\n",
      "╘══════════════╧═════════════╧═════════════╧═════════════╛\n"
     ]
    },
    {
     "data": {
      "text/plain": [
       "''"
      ]
     },
     "execution_count": 327,
     "metadata": {},
     "output_type": "execute_result"
    }
   ],
   "source": [
    "def beam_search(k=2):\n",
    "    beam = [{}]  # Comenzamos con una asignación vacía\n",
    "    unassigned = student_exam_pairs.copy()  \n",
    "    \n",
    "    # Para cada par (estudiante, examen) no asignado\n",
    "    for student_exam in unassigned:\n",
    "        new_beam = []\n",
    "        \n",
    "        # Para cada asignación parcial en el beam actual\n",
    "        for assignment in beam:\n",
    "            # Probar cada posible día para este par\n",
    "            for day in domain:\n",
    "                # Crear una nueva asignación con este par en este día\n",
    "                new_assignment = assignment.copy()\n",
    "                new_assignment[student_exam] = day\n",
    "                \n",
    "                # Verificar si esta asignación es consistente con las restricciones\n",
    "                if constraints(new_assignment):\n",
    "                    new_beam.append(new_assignment)\n",
    "        \n",
    "        # Si no hay asignaciones consistentes, no hay solución\n",
    "        if not new_beam:\n",
    "            return None\n",
    "        \n",
    "        # Ordenar las nuevas asignaciones por alguna heurística \n",
    "        beam = sorted(new_beam, key=lambda x: len(set(x.values())))[:k]\n",
    "    \n",
    "    # Retornar la mejor asignación encontrada\n",
    "    return beam[0] if beam else None\n",
    "\n",
    "# Ejecutar el algoritmo de Beam Search\n",
    "bs_solution, bs_time = measure_execution_time(beam_search, k=3)\n",
    "print_solution(bs_solution, \"BEAM SEARCH\", bs_time)"
   ]
  },
  {
   "cell_type": "markdown",
   "metadata": {},
   "source": [
    "#### **Algoritmo de Local Search**"
   ]
  },
  {
   "cell_type": "code",
   "execution_count": 328,
   "metadata": {},
   "outputs": [
    {
     "name": "stdout",
     "output_type": "stream",
     "text": [
      "\n",
      "========================================\n",
      "RESULTADOS DEL ALGORITMO: LOCAL SEARCH\n",
      "Tiempo de ejecución: 0.030861 segundos\n",
      "========================================\n",
      "\n",
      "ASIGNACIÓN DE EXÁMENES POR DÍA:\n",
      "----------------------------------------\n",
      "╒═══════════╤═══════════════════════════════════════════════════════════════════════════════╕\n",
      "│ Día       │ Exámenes                                                                      │\n",
      "╞═══════════╪═══════════════════════════════════════════════════════════════════════════════╡\n",
      "│ Lunes     │ Carlos-Inglés, Max-Matemáticas, Max-Arte, Lewis-Cocina                        │\n",
      "├───────────┼───────────────────────────────────────────────────────────────────────────────┤\n",
      "│ Martes    │ Carlos-Matemáticas, Charles-Física, Lewis-Arte                                │\n",
      "├───────────┼───────────────────────────────────────────────────────────────────────────────┤\n",
      "│ Miércoles │ Carlos-Cocina, Max-Historia, Charles-Matemáticas, Charles-Arte, Lewis-Química │\n",
      "╘═══════════╧═══════════════════════════════════════════════════════════════════════════════╛\n",
      "\n",
      "CALENDARIO DE EXÁMENES | ASIGNACIÓN:\n",
      "----------------------------------------\n",
      "╒══════════════╤═════════════╤═════════════╤═════════════╕\n",
      "│ Estudiante   │ Lunes       │ Martes      │ Miércoles   │\n",
      "╞══════════════╪═════════════╪═════════════╪═════════════╡\n",
      "│ Carlos       │ Inglés      │ Matemáticas │ Cocina      │\n",
      "├──────────────┼─────────────┼─────────────┼─────────────┤\n",
      "│ Max          │ Matemáticas │             │ Historia    │\n",
      "│              │ Arte        │             │             │\n",
      "├──────────────┼─────────────┼─────────────┼─────────────┤\n",
      "│ Charles      │             │ Física      │ Matemáticas │\n",
      "│              │             │             │ Arte        │\n",
      "├──────────────┼─────────────┼─────────────┼─────────────┤\n",
      "│ Lewis        │ Cocina      │ Arte        │ Química     │\n",
      "╘══════════════╧═════════════╧═════════════╧═════════════╛\n"
     ]
    },
    {
     "data": {
      "text/plain": [
       "''"
      ]
     },
     "execution_count": 328,
     "metadata": {},
     "output_type": "execute_result"
    }
   ],
   "source": [
    "def local_search(max_iterations=1000):\n",
    "    # Genera una asignación inicial aleatoria\n",
    "    current = {student_exam: random.choice(domain) for student_exam in student_exam_pairs}\n",
    "    best_conflicts = float('inf')\n",
    "    best_solution = None\n",
    "    \n",
    "    # Función para contar el número de conflictos\n",
    "    def count_conflicts(assignment):\n",
    "        conflicts = 0\n",
    "        \n",
    "        # Restricción 1: Ningún estudiante puede tener más de un examen en el mismo día\n",
    "        for student, student_exams in students.items():\n",
    "            days = [assignment.get((student, exam)) for exam in student_exams if (student, exam) in assignment]\n",
    "            conflicts += len(days) - len(set(days))\n",
    "        \n",
    "        # Restricción 2: Estudiantes que comparten un curso no pueden tener el mismo examen el mismo día\n",
    "        for (student1, exam1), day1 in assignment.items():\n",
    "            for (student2, exam2), day2 in assignment.items():\n",
    "                if student1 != student2 and exam1 == exam2 and day1 == day2:\n",
    "                    conflicts += 1\n",
    "        \n",
    "        return conflicts\n",
    "    \n",
    "    # Iteraciones de búsqueda local\n",
    "    for _ in range(max_iterations):\n",
    "        # Evaluar la solución actual\n",
    "        current_conflicts = count_conflicts(current)\n",
    "        \n",
    "        # Si es mejor que la mejor encontrada, actualizarla\n",
    "        if current_conflicts < best_conflicts:\n",
    "            best_conflicts = current_conflicts\n",
    "            best_solution = current.copy()\n",
    "            \n",
    "        # Si no hay conflictos, hemos encontrado una solución\n",
    "        if current_conflicts == 0:\n",
    "            return current\n",
    "        \n",
    "        # Generar un vecino cambiando un par (estudiante, examen) aleatorio a un día aleatorio\n",
    "        student_exam = random.choice(student_exam_pairs)\n",
    "        current_day = current[student_exam]\n",
    "        \n",
    "        # Elegir un día diferente\n",
    "        new_day = random.choice([d for d in domain if d != current_day])\n",
    "        \n",
    "        # Crear el vecino\n",
    "        neighbor = current.copy()\n",
    "        neighbor[student_exam] = new_day\n",
    "        \n",
    "        # Evaluar el vecino\n",
    "        neighbor_conflicts = count_conflicts(neighbor)\n",
    "        \n",
    "        # Si el vecino es mejor, movernos a él\n",
    "        if neighbor_conflicts <= current_conflicts:\n",
    "            current = neighbor\n",
    "    \n",
    "    # Devolver la mejor solución encontrada\n",
    "    return best_solution\n",
    "\n",
    "# Ejecutar el algoritmo de Local Search\n",
    "ls_solution, ls_time = measure_execution_time(local_search, max_iterations=2000)\n",
    "print_solution(ls_solution, \"LOCAL SEARCH\", ls_time)"
   ]
  },
  {
   "cell_type": "markdown",
   "metadata": {},
   "source": [
    "#### **Comparación de resultados**"
   ]
  },
  {
   "cell_type": "code",
   "execution_count": null,
   "metadata": {},
   "outputs": [
    {
     "data": {
      "text/plain": [
       "{('Carlos', 'Cocina'): 'Lunes',\n",
       " ('Carlos', 'Inglés'): 'Martes',\n",
       " ('Carlos', 'Matemáticas'): 'Miércoles',\n",
       " ('Max', 'Matemáticas'): 'Lunes',\n",
       " ('Max', 'Historia'): 'Martes',\n",
       " ('Max', 'Arte'): 'Miércoles',\n",
       " ('Charles', 'Matemáticas'): 'Martes',\n",
       " ('Charles', 'Arte'): 'Lunes',\n",
       " ('Charles', 'Física'): 'Miércoles',\n",
       " ('Lewis', 'Cocina'): 'Miércoles',\n",
       " ('Lewis', 'Arte'): 'Martes',\n",
       " ('Lewis', 'Química'): 'Lunes'}"
      ]
     },
     "execution_count": 329,
     "metadata": {},
     "output_type": "execute_result"
    },
    {
     "data": {
      "text/plain": [
       "0.00031366944313049316"
      ]
     },
     "execution_count": 329,
     "metadata": {},
     "output_type": "execute_result"
    },
    {
     "data": {
      "text/plain": [
       "{('Carlos', 'Cocina'): 'Lunes',\n",
       " ('Carlos', 'Inglés'): 'Martes',\n",
       " ('Carlos', 'Matemáticas'): 'Miércoles',\n",
       " ('Max', 'Matemáticas'): 'Lunes',\n",
       " ('Max', 'Historia'): 'Martes',\n",
       " ('Max', 'Arte'): 'Miércoles',\n",
       " ('Charles', 'Matemáticas'): 'Martes',\n",
       " ('Charles', 'Arte'): 'Lunes',\n",
       " ('Charles', 'Física'): 'Miércoles',\n",
       " ('Lewis', 'Cocina'): 'Miércoles',\n",
       " ('Lewis', 'Arte'): 'Martes',\n",
       " ('Lewis', 'Química'): 'Lunes'}"
      ]
     },
     "execution_count": 329,
     "metadata": {},
     "output_type": "execute_result"
    },
    {
     "data": {
      "text/plain": [
       "0.0006067752838134766"
      ]
     },
     "execution_count": 329,
     "metadata": {},
     "output_type": "execute_result"
    },
    {
     "data": {
      "text/plain": [
       "{('Carlos', 'Cocina'): 'Miércoles',\n",
       " ('Carlos', 'Inglés'): 'Lunes',\n",
       " ('Carlos', 'Matemáticas'): 'Martes',\n",
       " ('Max', 'Matemáticas'): 'Lunes',\n",
       " ('Max', 'Historia'): 'Miércoles',\n",
       " ('Max', 'Arte'): 'Lunes',\n",
       " ('Charles', 'Matemáticas'): 'Miércoles',\n",
       " ('Charles', 'Arte'): 'Miércoles',\n",
       " ('Charles', 'Física'): 'Martes',\n",
       " ('Lewis', 'Cocina'): 'Lunes',\n",
       " ('Lewis', 'Arte'): 'Martes',\n",
       " ('Lewis', 'Química'): 'Miércoles'}"
      ]
     },
     "execution_count": 329,
     "metadata": {},
     "output_type": "execute_result"
    },
    {
     "data": {
      "text/plain": [
       "0.03086063265800476"
      ]
     },
     "execution_count": 329,
     "metadata": {},
     "output_type": "execute_result"
    },
    {
     "name": "stdout",
     "output_type": "stream",
     "text": [
      "\n",
      "RESUMEN COMPARATIVO DE ALGORITMOS:\n",
      "============================================================\n",
      "╒══════════════╤═══════════════════════╤════════════════════╕\n",
      "│ Algoritmo    │ Tiempo de Ejecución   │ Tipo de Solución   │\n",
      "╞══════════════╪═══════════════════════╪════════════════════╡\n",
      "│ Backtracking │ 0.000314 s            │ Aproximada         │\n",
      "├──────────────┼───────────────────────┼────────────────────┤\n",
      "│ Beam Search  │ 0.000607 s            │ Aproximada         │\n",
      "├──────────────┼───────────────────────┼────────────────────┤\n",
      "│ Local Search │ 0.030861 s            │ Aproximada         │\n",
      "╘══════════════╧═══════════════════════╧════════════════════╛\n"
     ]
    },
    {
     "data": {
      "text/plain": [
       "<Figure size 1000x600 with 0 Axes>"
      ]
     },
     "execution_count": 329,
     "metadata": {},
     "output_type": "execute_result"
    },
    {
     "data": {
      "text/plain": [
       "<BarContainer object of 3 artists>"
      ]
     },
     "execution_count": 329,
     "metadata": {},
     "output_type": "execute_result"
    },
    {
     "data": {
      "text/plain": [
       "Text(0.5, 0, 'Algoritmo')"
      ]
     },
     "execution_count": 329,
     "metadata": {},
     "output_type": "execute_result"
    },
    {
     "data": {
      "text/plain": [
       "Text(0, 0.5, 'Tiempo de Ejecución (segundos)')"
      ]
     },
     "execution_count": 329,
     "metadata": {},
     "output_type": "execute_result"
    },
    {
     "data": {
      "text/plain": [
       "Text(0.5, 1.0, 'Comparación de Tiempos de Ejecución de Algoritmos')"
      ]
     },
     "execution_count": 329,
     "metadata": {},
     "output_type": "execute_result"
    },
    {
     "data": {
      "image/png": "[encoded data removed]",
      "text/plain": [
       "<Figure size 1000x600 with 1 Axes>"
      ]
     },
     "metadata": {},
     "output_type": "display_data"
    }
   ],
   "source": [
    "import matplotlib.pyplot as plt\n",
    "\n",
    "# Comparación de resultados\n",
    "try:\n",
    "    bt_solution\n",
    "    bt_time\n",
    "except NameError:\n",
    "    print(\"Ejecutando Backtracking para comparación...\")\n",
    "    bt_solution, bt_time = measure_execution_time(backtracking)\n",
    "\n",
    "try:\n",
    "    bs_solution\n",
    "    bs_time\n",
    "except NameError:\n",
    "    print(\"Ejecutando Beam Search para comparación...\")\n",
    "    bs_solution, bs_time = measure_execution_time(beam_search, k=3)\n",
    "\n",
    "try:\n",
    "    ls_solution\n",
    "    ls_time\n",
    "except NameError:\n",
    "    print(\"Ejecutando Local Search para comparación...\")\n",
    "    ls_solution, ls_time = measure_execution_time(local_search, max_iterations=2000)\n",
    "\n",
    "# Resumen comparativo\n",
    "print(\"\\nRESUMEN COMPARATIVO DE ALGORITMOS:\")\n",
    "print(\"=\" * 60)\n",
    "\n",
    "comparison_data = [\n",
    "    [\"Backtracking\", f\"{bt_time:.6f} s\", \"Aproximada\" if bt_solution else \"No encontrada\"],\n",
    "    [\"Beam Search\", f\"{bs_time:.6f} s\", \"Aproximada\" if bs_solution else \"No encontrada\"],\n",
    "    [\"Local Search\", f\"{ls_time:.6f} s\", \"Aproximada\" if ls_solution else \"No encontrada\"]\n",
    "]\n",
    "\n",
    "headers = [\"Algoritmo\", \"Tiempo de Ejecución\", \"Tipo de Solución\"]\n",
    "print(tabulate.tabulate(comparison_data, headers=headers, tablefmt=\"fancy_grid\"))\n",
    "\n",
    "# gráfico de barras para los tiempos de ejecución\n",
    "algorithms = [\"Backtracking\", \"Beam Search\", \"Local Search\"]\n",
    "times = [bt_time, bs_time, ls_time]\n",
    "\n",
    "plt.figure(figsize=(10, 6))\n",
    "plt.bar(algorithms, times, color=['blue', 'green', 'orange'])\n",
    "plt.xlabel(\"Algoritmo\")\n",
    "plt.ylabel(\"Tiempo de Ejecución (segundos)\")\n",
    "plt.title(\"Comparación de Tiempos de Ejecución de Algoritmos\")\n",
    "plt.ylim(0, max(times) * 0.5)\n",
    "plt.grid(axis='y', linestyle='--', alpha=0.7)\n",
    "plt.show()"
   ]
  },
  {
   "cell_type": "markdown",
   "metadata": {},
   "source": [
    "#### **Conclusiones**"
   ]
  }
 ],
 "metadata": {
  "kernelspec": {
   "display_name": "Python 3",
   "language": "python",
   "name": "python3"
  },
  "language_info": {
   "codemirror_mode": {
    "name": "ipython",
    "version": 3
   },
   "file_extension": ".py",
   "mimetype": "text/x-python",
   "name": "python",
   "nbconvert_exporter": "python",
   "pygments_lexer": "ipython3",
   "version": "3.11.9"
  }
 },
 "nbformat": 4,
 "nbformat_minor": 2
}
