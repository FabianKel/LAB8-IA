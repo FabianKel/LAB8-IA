{
 "cells": [
  {
   "cell_type": "markdown",
   "metadata": {},
   "source": [
    "# **Laboratorio 8**"
   ]
  },
  {
   "cell_type": "markdown",
   "metadata": {},
   "source": [
    "-  [Mónica Salvatierra - 22249](https://github.com/alee2602)\n",
    "- [Paula Barillas - 22764](https://github.com/paulabaal12)\n",
    "- [Derek Arreaga - 22537](https://github.com/FabianKel)"
   ]
  },
  {
   "cell_type": "markdown",
   "metadata": {},
   "source": [
    "**Link del repositorio:**\n",
    "\n",
    "https://github.com/FabianKel/LAB8-IA"
   ]
  },
  {
   "cell_type": "markdown",
   "metadata": {},
   "source": [
    "## **Task 1 - Teoría**\n",
    "\n",
    "Responda las siguientes preguntas de forma clara y concisa"
   ]
  },
  {
   "cell_type": "markdown",
   "metadata": {},
   "source": [
    "**1. Investigar el algoritmo AC-3 y su relación con el algoritmo de\n",
    "backtracking search.**"
   ]
  },
  {
   "cell_type": "markdown",
   "metadata": {},
   "source": [
    "\n",
    "El algoritmo AC-3 es una técnica utilizada en problemas de\n",
    "restricciones para reducir los dominios de las variables\n",
    "eliminando valores inconsistentes. Al igual que el algoritmo de\n",
    "Backtracking Search, tiene como objetivo mejorar la eficiencia\n",
    "de la búsqueda al reducir el espacio de soluciones antes de\n",
    "aplicar métodos más costosos.\n",
    "El algoritmo AC-3 funciona de la siguiente manera:\n",
    "1. Convierte restricciones en arco: Se representan las\n",
    "restricciones binarias como pares de arcos (X -> Y, Y ->X)\n",
    "2. Se crea una agenda de arcos: Se almacena una lista de arcos\n",
    "a revisar.\n",
    "3. Revisión de arcos: Se verifica si cada valor en el dominio de\n",
    "una variable tiene al menos un valor compatible en la otra\n",
    "variable. Si un valor no tiene soporte, se elimina.\n",
    "4. Repetición hasta encontrar estabilidad: Si un dominio\n",
    "cambia, entonces los arcos relacionados se deben de volver\n",
    "a revisar y el proceso continúa hasta que no haya más\n",
    "modificaciones.\n",
    "\n",
    "**Ventajas:**\n",
    "- Reduce el espacio de búsqueda, facilitando la solución\n",
    "del problema.\n",
    "- Detecta inconsistencias temprano, evitando\n",
    "exploraciones inútiles.\n",
    "\n",
    "**Desventajas:**\n",
    "- No garantiza una solución óptima, solo filtra valores\n",
    "inconsistentes.\n",
    "- Puede ser costoso en problemas con grandes dominios o\n",
    "muchas restricciones.\n"
   ]
  },
  {
   "cell_type": "markdown",
   "metadata": {},
   "source": [
    "**2. Defina en sus propias palabras el término “Arc Consistency”**"
   ]
  },
  {
   "cell_type": "markdown",
   "metadata": {},
   "source": [
    "Arc Consistency es un concepto que se utiliza en problemas de satisfacción de restricciones. Se dice que un arco entre dos variables es consistente cuando, para cada valor en el dominio de la primera variable, existe al menos un valor en el dominio de la segunda que cumple con la restricción que hay entre ellas. Si no se cumple esto, se eliminan los valores que no sirven, de tal manera que se van reduciendo los dominios y se facilita la búsqueda de una solución al problema."
   ]
  },
  {
   "cell_type": "markdown",
   "metadata": {},
   "source": [
    "### **Referencias**"
   ]
  },
  {
   "cell_type": "markdown",
   "metadata": {},
   "source": [
    "1. Boris. (2025, 28 febrero). ARC consistency explained. BorisTheBrave.Com. https://www.boristhebrave.com/2021/08/30/arc-consistency-explained/\n",
    "\n",
    "2. Satisfacción de restricciones: algoritmo AC-3. (2024, 2 marzo).\n",
    "https://www.toolify.ai/es/ai-news-es/satisfaccin-de-\n",
    "restricciones-algoritmo-ac3-2042502\n"
   ]
  },
  {
   "cell_type": "markdown",
   "metadata": {},
   "source": [
    "## **Task 2 - CSP con Backtracking, Beam y Local Search**"
   ]
  },
  {
   "cell_type": "markdown",
   "metadata": {},
   "source": [
    "**Definición de variables y dominio**"
   ]
  },
  {
   "cell_type": "code",
   "execution_count": 2,
   "metadata": {},
   "outputs": [],
   "source": [
    "\n",
    "exams = [\"E1\", \"E2\", \"E3\", \"E4\", \"E5\", \"E6\", \"E7\"]\n",
    "\n",
    "# Dominio = Días disponibles\n",
    "domain = [\"Lunes\", \"Martes\", \"Miércoles\"]\n",
    "\n",
    "# Asignación de exámenes por estudiante\n",
    "students = {\n",
    "    \"A\": [\"E1\", \"E2\", \"E3\"],\n",
    "    \"B\": [\"E3\", \"E4\", \"E5\"],\n",
    "    \"C\": [\"E3\", \"E5\", \"E6\"],\n",
    "    \"D\": [\"E1\", \"E5\", \"E7\"]\n",
    "}\n"
   ]
  },
  {
   "cell_type": "markdown",
   "metadata": {},
   "source": [
    "**Definir la restricción**"
   ]
  },
  {
   "cell_type": "code",
   "execution_count": 1,
   "metadata": {},
   "outputs": [],
   "source": [
    "def constraints(assignment, students):\n",
    "    # Verifica que ningún estudiante tenga más de un examen por día\n",
    "\n",
    "    for student, exs in students.items():\n",
    "        days = [assignment.get(e) for e in exs if e in assignment]\n",
    "        if len(days) != len(set(days)):\n",
    "            return False\n",
    "    return True"
   ]
  },
  {
   "cell_type": "markdown",
   "metadata": {},
   "source": [
    "#### **Algoritmo de Backtracking Search**"
   ]
  },
  {
   "cell_type": "markdown",
   "metadata": {},
   "source": [
    "#### **Algoritmo de Beam Search**"
   ]
  },
  {
   "cell_type": "markdown",
   "metadata": {},
   "source": [
    "#### **Algoritmo de Local Search**"
   ]
  },
  {
   "cell_type": "markdown",
   "metadata": {},
   "source": [
    "#### **Comparación de resultados**"
   ]
  },
  {
   "cell_type": "markdown",
   "metadata": {},
   "source": [
    "#### **Conclusiones**"
   ]
  }
 ],
 "metadata": {
  "kernelspec": {
   "display_name": "base",
   "language": "python",
   "name": "python3"
  },
  "language_info": {
   "codemirror_mode": {
    "name": "ipython",
    "version": 3
   },
   "file_extension": ".py",
   "mimetype": "text/x-python",
   "name": "python",
   "nbconvert_exporter": "python",
   "pygments_lexer": "ipython3",
   "version": "3.11.7"
  }
 },
 "nbformat": 4,
 "nbformat_minor": 2
}
